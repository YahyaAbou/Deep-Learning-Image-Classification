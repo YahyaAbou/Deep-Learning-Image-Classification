{
  "nbformat": 4,
  "nbformat_minor": 0,
  "metadata": {
    "colab": {
      "name": "Untitled0.ipynb",
      "provenance": [],
      "collapsed_sections": []
    },
    "kernelspec": {
      "name": "python3",
      "display_name": "Python 3"
    },
    "language_info": {
      "name": "python"
    }
  },
  "cells": [
    {
      "cell_type": "markdown",
      "source": [
        "## Introduction\n",
        "\n",
        "Ce notebook jupyter réalise le test du réseau en prenant en argument le nom d'un répertoire d'images à classer et générera un fichier csv du même type que ceux présents dans \" Données \";\n",
        "Ce notebook a été réalisé sur google colab par : Yahya Abourriche."
      ],
      "metadata": {
        "id": "sm66tsU0YsNn"
      }
    },
    {
      "cell_type": "markdown",
      "source": [
        "##Préparation de données\n",
        "On mount notre drive afin de pouvoir accéder à notre model."
      ],
      "metadata": {
        "id": "Jm02RRN_Zf7E"
      }
    },
    {
      "cell_type": "code",
      "source": [
        "from google.colab import drive\n",
        "drive.mount('/content/drive/')"
      ],
      "metadata": {
        "colab": {
          "base_uri": "https://localhost:8080/"
        },
        "id": "AgUQ3nVTZgbP",
        "outputId": "eac7268e-b01b-43ff-d314-e73509f835b5"
      },
      "execution_count": 1,
      "outputs": [
        {
          "output_type": "stream",
          "name": "stdout",
          "text": [
            "Mounted at /content/drive/\n"
          ]
        }
      ]
    },
    {
      "cell_type": "markdown",
      "source": [
        "Afin de pouvoir accéder aux fichiers, on décompresse notre fichier .zip et on met son contenu dans le chemin standard."
      ],
      "metadata": {
        "id": "7n5pZxWcR7Kw"
      }
    },
    {
      "cell_type": "code",
      "source": [
        "!unzip drive/MyDrive//Data_Train_Valid.zip > /dev/null"
      ],
      "metadata": {
        "id": "GEGzvR3WR6Gr"
      },
      "execution_count": 7,
      "outputs": []
    },
    {
      "cell_type": "markdown",
      "source": [
        "On commence par importer notre model créé sous forme h5"
      ],
      "metadata": {
        "id": "6UvG0TSOZUzk"
      }
    },
    {
      "cell_type": "code",
      "source": [
        "from tensorflow import keras\n",
        "model = keras.models.load_model(\"drive/MyDrive/mon_model_h5.h5\")"
      ],
      "metadata": {
        "id": "_Y1tShLTZSJ8"
      },
      "execution_count": 18,
      "outputs": []
    },
    {
      "cell_type": "markdown",
      "source": [
        "On ouvre toutes les images présentes dans le fichier ouvert et on les mets dans une liste.\n",
        "\n",
        "On met les noms des images dans une autre liste."
      ],
      "metadata": {
        "id": "C8jOhj4aaHG0"
      }
    },
    {
      "cell_type": "code",
      "source": [
        "import glob\n",
        "from PIL import Image\n",
        "import numpy as np\n",
        "image_list = []\n",
        "nom_list = []\n",
        "nomd = 'images/hand/'\n",
        "for filename in glob.glob(nomd + '*.png'): \n",
        "    im=Image.open(filename)\n",
        "    image_list.append(im)\n",
        "    nom_list.append(filename)"
      ],
      "metadata": {
        "id": "wR8HdKr9YLMd"
      },
      "execution_count": 19,
      "outputs": []
    },
    {
      "cell_type": "markdown",
      "source": [
        "On transforme les images en listes et on les mets dans une liste\n"
      ],
      "metadata": {
        "id": "7Awsfco8aws0"
      }
    },
    {
      "cell_type": "code",
      "source": [
        "from tensorflow.keras.preprocessing.image import img_to_array\n",
        "X=[]\n",
        "for i in range(0,len(image_list)):\n",
        "  image = img_to_array(image_list[i])\n",
        "  X.append(image)\n",
        "len(X)"
      ],
      "metadata": {
        "colab": {
          "base_uri": "https://localhost:8080/"
        },
        "id": "MNUBzSPgYP-q",
        "outputId": "d7e67ce8-e4f5-41e6-9953-0f962dc10f8a"
      },
      "execution_count": 20,
      "outputs": [
        {
          "output_type": "execute_result",
          "data": {
            "text/plain": [
              "20000"
            ]
          },
          "metadata": {},
          "execution_count": 20
        }
      ]
    },
    {
      "cell_type": "markdown",
      "source": [
        "On transforme la liste contenant les images en une numpy *array*"
      ],
      "metadata": {
        "id": "9ZPFE9ofa2e4"
      }
    },
    {
      "cell_type": "code",
      "source": [
        "X = np.array(X, dtype=\"float\") / 255.0"
      ],
      "metadata": {
        "id": "30YpeuC3YThV"
      },
      "execution_count": 21,
      "outputs": []
    },
    {
      "cell_type": "markdown",
      "source": [
        "On peut alors utiliser notre model afin de prédire la classification des images qu'on a obtenu :"
      ],
      "metadata": {
        "id": "E7cQ_Ap6a_cm"
      }
    },
    {
      "cell_type": "code",
      "source": [
        "pred = model.predict(X)\n",
        "pred[:10]"
      ],
      "metadata": {
        "colab": {
          "base_uri": "https://localhost:8080/"
        },
        "id": "tAjQOTZAYV4V",
        "outputId": "5b69ba77-b8e9-4a39-8eea-875d8ffba661"
      },
      "execution_count": 25,
      "outputs": [
        {
          "output_type": "execute_result",
          "data": {
            "text/plain": [
              "array([[ -7.098916  ,  -1.6713388 ,  -6.2696853 ,  -5.3833594 ,\n",
              "         18.057007  ],\n",
              "       [ -9.770866  ,  -8.216786  , -13.93754   ,   0.36183417,\n",
              "         18.675346  ],\n",
              "       [ -6.0906553 ,  -3.3640347 , -12.870415  ,   2.7149653 ,\n",
              "         11.885069  ],\n",
              "       [ -5.8182774 ,  -3.0776615 ,  -2.129076  ,  -2.1082487 ,\n",
              "         10.927973  ],\n",
              "       [  0.97554535,  -1.8353299 ,   1.926396  ,  -1.1270304 ,\n",
              "          0.10560912],\n",
              "       [  0.7687864 ,  -6.1951947 ,  -1.4622022 ,  -4.043907  ,\n",
              "          7.505346  ],\n",
              "       [ -7.242484  ,  -6.109723  ,  -6.060951  ,   2.376879  ,\n",
              "          9.414477  ],\n",
              "       [ -7.8135605 ,  -2.8211663 ,  -5.350155  ,  -6.5962067 ,\n",
              "         14.834732  ],\n",
              "       [ -5.591817  ,  -5.3213997 ,  -8.351862  ,  -5.3957963 ,\n",
              "         16.732836  ],\n",
              "       [ -8.019685  ,  -1.9759357 , -10.68922   ,  -6.0423875 ,\n",
              "         21.350874  ]], dtype=float32)"
            ]
          },
          "metadata": {},
          "execution_count": 25
        }
      ]
    },
    {
      "cell_type": "markdown",
      "source": [
        "On obtient des résultats sous forme de probabilité.\n",
        "\n",
        "Afin d'obtenir des résultats cohérents, il faut utiliser la fonction argmax de numpy pour retrouver un seul résultat :"
      ],
      "metadata": {
        "id": "Y9o3CTuLbKod"
      }
    },
    {
      "cell_type": "code",
      "source": [
        "predcl = np.argmax(pred, axis = 1)\n",
        "predcl[:10]"
      ],
      "metadata": {
        "colab": {
          "base_uri": "https://localhost:8080/"
        },
        "id": "SNYgn495YYxC",
        "outputId": "ccd24e08-3ef3-45b4-ba35-815e39741061"
      },
      "execution_count": 26,
      "outputs": [
        {
          "output_type": "execute_result",
          "data": {
            "text/plain": [
              "array([4, 4, 4, 4, 2, 4, 4, 4, 4, 4])"
            ]
          },
          "metadata": {},
          "execution_count": 26
        }
      ]
    },
    {
      "cell_type": "markdown",
      "source": [
        "On peut alors créer un fichier sous format csv de même manière que les fichiers train.csv et valid.csv .\n",
        "\n",
        "Pour chaque image présentes dans le dossier, on ajoute le nom de l'image, le chemin relatif et la *class_label*"
      ],
      "metadata": {
        "id": "t2ZzgrnZbf0W"
      }
    },
    {
      "cell_type": "code",
      "source": [
        "# contenu du fichier csv \n",
        "row=[['image_name','relative_path','class_label']]\n",
        "for i in range(0,len(X)):\n",
        "  lis = nom_list[i].split('/')\n",
        "  namec = lis[len(lis)-1]\n",
        "  pathc = lis[len(lis)-2] + '/' + namec\n",
        "  row.append([namec,pathc, predcl[i]])\n",
        "\n",
        "# ecriture ss format csv\n",
        "np.savetxt(\"sorti.csv\", \n",
        "           row,\n",
        "           delimiter =\", \", \n",
        "           fmt ='% s')"
      ],
      "metadata": {
        "id": "nmPY6jfvYZ0-"
      },
      "execution_count": 28,
      "outputs": []
    }
  ]
}
{
  "cells": [
    {
      "cell_type": "markdown",
      "metadata": {
        "id": "J9HoDrmAvnM7"
      },
      "source": [
        "# Challenge Deep Learning"
      ]
    },
    {
      "cell_type": "markdown",
      "metadata": {
        "id": "3WwWHNt0vnNA"
      },
      "source": [
        "L'objectif de ce challenge est de proposer une méthode de classification, basée sur des réseaux de neurones, permettant de classer des images issues de Google Quickdraw (https://quickdraw.withgoogle.com/data).\n",
        "Le jeu de données proposé comprend 5 classes balancées, avec 15000 exemples d'apprentissage et 5000 exemples de validation : des paniers, des yeux, des lunettes, des lapins et des mains.\n",
        "\n",
        "Vous pouvez utiliser tout algorithme qui vous semble pertinent (PMC, CNN,), en faisant varier les données d'entrée (normalisation, augmentation de données,...), les paramètres des réseaux considérés (fonction objectif, optimiseur, dropout, learning rate, taille des batchs...)\n",
        "\n",
        "Bien sûr, pour valider votre travail, nous ferons tourner le code en local, sur la base originale que nous conservons, pour voir si les résultats que vous proposez sont reproductibles. \n",
        "\n",
        "Le compte-rendu sera effectué sur un notebook jupyter, dans lequel vous reporterez votre méthodologie en markdown, et vos codes en Python. Vous expliquerez votre démarche, justifierez vos choix, commenterez vos expérimentations et vos résultats.\n",
        "\n",
        "La notation sera construite de la manière suivante : \n",
        "- 12 points sur le compte-rendu\n",
        "- 8 points seront accordés sur un classement par le taux de reconnsaissance des objets de la base de test. Les binômes seront classés par taux de reconnaissance décroissant, les premiers ayant 8 points accordés, les autres binômes ayant une note suivant une décroissance linéaire.\n",
        "\n",
        "Le notebook sera déposé sur la plateforme moodle du cours."
      ]
    },
    {
      "cell_type": "markdown",
      "source": [
        "##Introduction\n",
        "\n",
        "Ce notebook jupyter réalise la phase d'apprentissage de notre réseau ainsi que son enregistrement et en utilisant les données présentes dans l'archive \"Data_Train_Valid.zip\" présente sur le cours en ligne.\n",
        "\n",
        "Ce notebook a été réalisé par : Yahya ABOURRICHE"
      ],
      "metadata": {
        "id": "MP9DBkycB5ao"
      }
    },
    {
      "cell_type": "markdown",
      "metadata": {
        "id": "FHcujcjvvnNC"
      },
      "source": [
        "## Imports"
      ]
    },
    {
      "cell_type": "markdown",
      "source": [
        "On commence par importer quelques librairies nécessaires pour le bon fonctionnement notre projet :"
      ],
      "metadata": {
        "id": "TMZAPxKHBPho"
      }
    },
    {
      "cell_type": "code",
      "execution_count": 59,
      "metadata": {
        "id": "v3XwcMX_vnND"
      },
      "outputs": [],
      "source": [
        "import tensorflow\n",
        "import pandas as pd\n",
        "import numpy as np\n",
        "import time\n",
        "from PIL import Image\n",
        "import glob\n",
        "import matplotlib.pyplot as plt\n",
        "%matplotlib inline\n",
        "\n",
        "# Ajouter les imports nécessaires\n",
        "\n",
        "import os\n",
        "import cv2\n",
        "import matplotlib\n",
        "matplotlib.use(\"Agg\")\n",
        "\n",
        "from tensorflow.keras.preprocessing.image import ImageDataGenerator\n",
        "from tensorflow.keras.optimizers import Adam\n",
        "from sklearn.model_selection import train_test_split\n",
        "from tensorflow.keras.preprocessing.image import img_to_array\n",
        "from tensorflow.keras.utils import to_categorical\n",
        "\n",
        "from imutils import paths\n",
        "import matplotlib.pyplot as plt\n",
        "import numpy as np\n",
        "import argparse\n",
        "import random\n",
        "import cv2\n",
        "import os"
      ]
    },
    {
      "cell_type": "markdown",
      "source": [
        "Afin de pouvoir accéder à nos fichiers, on les importe à notre google drive sous format zip.\n",
        "\n",
        "Ensuite, on réalise un *mount* du drive afin de pouvoir accéder aux fichiers à partir de notre notebook jupyter."
      ],
      "metadata": {
        "id": "HeTIY26rBbi2"
      }
    },
    {
      "cell_type": "code",
      "execution_count": 3,
      "metadata": {
        "colab": {
          "base_uri": "https://localhost:8080/"
        },
        "id": "MPTPZ7i7vu4N",
        "outputId": "34a853b8-48a2-45af-a81a-98c1a80a9f68"
      },
      "outputs": [
        {
          "output_type": "stream",
          "name": "stdout",
          "text": [
            "Mounted at /content/drive/\n"
          ]
        }
      ],
      "source": [
        "from google.colab import drive\n",
        "drive.mount('/content/drive/')"
      ]
    },
    {
      "cell_type": "markdown",
      "source": [
        "Afin de pouvoir accéder aux fichiers, on décompresse notre fichier .zip et on met son contenu dans le chemin standard."
      ],
      "metadata": {
        "id": "uxiUmy3dCXCA"
      }
    },
    {
      "cell_type": "code",
      "execution_count": 6,
      "metadata": {
        "id": "hK0YOImgv5iF"
      },
      "outputs": [],
      "source": [
        "!unzip drive/MyDrive//Data_Train_Valid.zip > /dev/null"
      ]
    },
    {
      "cell_type": "markdown",
      "metadata": {
        "id": "hFPYTUINvnNE"
      },
      "source": [
        "## Données"
      ]
    },
    {
      "cell_type": "markdown",
      "source": [
        "On crée une liste *classes* contenant les classes de catégories d'images.\n",
        "\n",
        "Puis on créé 2 *panda dataframes* : une contenant les données présentes dans le fichier d'entrainement train.csv, et l'autre contenant les données présentes dans le fichier de validation valid.csv."
      ],
      "metadata": {
        "id": "sk4UiOhACloh"
      }
    },
    {
      "cell_type": "code",
      "execution_count": 7,
      "metadata": {
        "id": "NX_wco1fvnNF"
      },
      "outputs": [],
      "source": [
        "classes = [\"basket\",\"eye\",\"binoculars\",\"rabbit\",\"hand\"]\n",
        "train = pd.read_csv('train.csv')\n",
        "valid = pd.read_csv('valid.csv')"
      ]
    },
    {
      "cell_type": "markdown",
      "source": [
        "On affiche la taille de la dataframe d’entrainnemen *train* et on la visualise.\n",
        "\n",
        "On remarque que chaque ligne de *train* contient un nom d'image, son chemin relatif et son label."
      ],
      "metadata": {
        "id": "be3-WHxYDQBv"
      }
    },
    {
      "cell_type": "code",
      "source": [
        "print(train.shape)\n",
        "train"
      ],
      "metadata": {
        "colab": {
          "base_uri": "https://localhost:8080/",
          "height": 441
        },
        "id": "HI_RIQkODRPp",
        "outputId": "27e3ebce-d529-4a32-bdf3-305ac4a99ad3"
      },
      "execution_count": 10,
      "outputs": [
        {
          "output_type": "stream",
          "name": "stdout",
          "text": [
            "(75000, 3)\n"
          ]
        },
        {
          "output_type": "execute_result",
          "data": {
            "text/html": [
              "\n",
              "  <div id=\"df-57483fdc-8e36-4702-ae07-1fa62aba764d\">\n",
              "    <div class=\"colab-df-container\">\n",
              "      <div>\n",
              "<style scoped>\n",
              "    .dataframe tbody tr th:only-of-type {\n",
              "        vertical-align: middle;\n",
              "    }\n",
              "\n",
              "    .dataframe tbody tr th {\n",
              "        vertical-align: top;\n",
              "    }\n",
              "\n",
              "    .dataframe thead th {\n",
              "        text-align: right;\n",
              "    }\n",
              "</style>\n",
              "<table border=\"1\" class=\"dataframe\">\n",
              "  <thead>\n",
              "    <tr style=\"text-align: right;\">\n",
              "      <th></th>\n",
              "      <th>image_name</th>\n",
              "      <th>relative_path</th>\n",
              "      <th>class_label</th>\n",
              "    </tr>\n",
              "  </thead>\n",
              "  <tbody>\n",
              "    <tr>\n",
              "      <th>0</th>\n",
              "      <td>basket_052681.png</td>\n",
              "      <td>basket/basket_052681.png</td>\n",
              "      <td>0</td>\n",
              "    </tr>\n",
              "    <tr>\n",
              "      <th>1</th>\n",
              "      <td>basket_028248.png</td>\n",
              "      <td>basket/basket_028248.png</td>\n",
              "      <td>0</td>\n",
              "    </tr>\n",
              "    <tr>\n",
              "      <th>2</th>\n",
              "      <td>basket_050738.png</td>\n",
              "      <td>basket/basket_050738.png</td>\n",
              "      <td>0</td>\n",
              "    </tr>\n",
              "    <tr>\n",
              "      <th>3</th>\n",
              "      <td>basket_034414.png</td>\n",
              "      <td>basket/basket_034414.png</td>\n",
              "      <td>0</td>\n",
              "    </tr>\n",
              "    <tr>\n",
              "      <th>4</th>\n",
              "      <td>basket_091738.png</td>\n",
              "      <td>basket/basket_091738.png</td>\n",
              "      <td>0</td>\n",
              "    </tr>\n",
              "    <tr>\n",
              "      <th>...</th>\n",
              "      <td>...</td>\n",
              "      <td>...</td>\n",
              "      <td>...</td>\n",
              "    </tr>\n",
              "    <tr>\n",
              "      <th>74995</th>\n",
              "      <td>hand_241467.png</td>\n",
              "      <td>hand/hand_241467.png</td>\n",
              "      <td>4</td>\n",
              "    </tr>\n",
              "    <tr>\n",
              "      <th>74996</th>\n",
              "      <td>hand_052619.png</td>\n",
              "      <td>hand/hand_052619.png</td>\n",
              "      <td>4</td>\n",
              "    </tr>\n",
              "    <tr>\n",
              "      <th>74997</th>\n",
              "      <td>hand_168727.png</td>\n",
              "      <td>hand/hand_168727.png</td>\n",
              "      <td>4</td>\n",
              "    </tr>\n",
              "    <tr>\n",
              "      <th>74998</th>\n",
              "      <td>hand_285523.png</td>\n",
              "      <td>hand/hand_285523.png</td>\n",
              "      <td>4</td>\n",
              "    </tr>\n",
              "    <tr>\n",
              "      <th>74999</th>\n",
              "      <td>hand_263562.png</td>\n",
              "      <td>hand/hand_263562.png</td>\n",
              "      <td>4</td>\n",
              "    </tr>\n",
              "  </tbody>\n",
              "</table>\n",
              "<p>75000 rows × 3 columns</p>\n",
              "</div>\n",
              "      <button class=\"colab-df-convert\" onclick=\"convertToInteractive('df-57483fdc-8e36-4702-ae07-1fa62aba764d')\"\n",
              "              title=\"Convert this dataframe to an interactive table.\"\n",
              "              style=\"display:none;\">\n",
              "        \n",
              "  <svg xmlns=\"http://www.w3.org/2000/svg\" height=\"24px\"viewBox=\"0 0 24 24\"\n",
              "       width=\"24px\">\n",
              "    <path d=\"M0 0h24v24H0V0z\" fill=\"none\"/>\n",
              "    <path d=\"M18.56 5.44l.94 2.06.94-2.06 2.06-.94-2.06-.94-.94-2.06-.94 2.06-2.06.94zm-11 1L8.5 8.5l.94-2.06 2.06-.94-2.06-.94L8.5 2.5l-.94 2.06-2.06.94zm10 10l.94 2.06.94-2.06 2.06-.94-2.06-.94-.94-2.06-.94 2.06-2.06.94z\"/><path d=\"M17.41 7.96l-1.37-1.37c-.4-.4-.92-.59-1.43-.59-.52 0-1.04.2-1.43.59L10.3 9.45l-7.72 7.72c-.78.78-.78 2.05 0 2.83L4 21.41c.39.39.9.59 1.41.59.51 0 1.02-.2 1.41-.59l7.78-7.78 2.81-2.81c.8-.78.8-2.07 0-2.86zM5.41 20L4 18.59l7.72-7.72 1.47 1.35L5.41 20z\"/>\n",
              "  </svg>\n",
              "      </button>\n",
              "      \n",
              "  <style>\n",
              "    .colab-df-container {\n",
              "      display:flex;\n",
              "      flex-wrap:wrap;\n",
              "      gap: 12px;\n",
              "    }\n",
              "\n",
              "    .colab-df-convert {\n",
              "      background-color: #E8F0FE;\n",
              "      border: none;\n",
              "      border-radius: 50%;\n",
              "      cursor: pointer;\n",
              "      display: none;\n",
              "      fill: #1967D2;\n",
              "      height: 32px;\n",
              "      padding: 0 0 0 0;\n",
              "      width: 32px;\n",
              "    }\n",
              "\n",
              "    .colab-df-convert:hover {\n",
              "      background-color: #E2EBFA;\n",
              "      box-shadow: 0px 1px 2px rgba(60, 64, 67, 0.3), 0px 1px 3px 1px rgba(60, 64, 67, 0.15);\n",
              "      fill: #174EA6;\n",
              "    }\n",
              "\n",
              "    [theme=dark] .colab-df-convert {\n",
              "      background-color: #3B4455;\n",
              "      fill: #D2E3FC;\n",
              "    }\n",
              "\n",
              "    [theme=dark] .colab-df-convert:hover {\n",
              "      background-color: #434B5C;\n",
              "      box-shadow: 0px 1px 3px 1px rgba(0, 0, 0, 0.15);\n",
              "      filter: drop-shadow(0px 1px 2px rgba(0, 0, 0, 0.3));\n",
              "      fill: #FFFFFF;\n",
              "    }\n",
              "  </style>\n",
              "\n",
              "      <script>\n",
              "        const buttonEl =\n",
              "          document.querySelector('#df-57483fdc-8e36-4702-ae07-1fa62aba764d button.colab-df-convert');\n",
              "        buttonEl.style.display =\n",
              "          google.colab.kernel.accessAllowed ? 'block' : 'none';\n",
              "\n",
              "        async function convertToInteractive(key) {\n",
              "          const element = document.querySelector('#df-57483fdc-8e36-4702-ae07-1fa62aba764d');\n",
              "          const dataTable =\n",
              "            await google.colab.kernel.invokeFunction('convertToInteractive',\n",
              "                                                     [key], {});\n",
              "          if (!dataTable) return;\n",
              "\n",
              "          const docLinkHtml = 'Like what you see? Visit the ' +\n",
              "            '<a target=\"_blank\" href=https://colab.research.google.com/notebooks/data_table.ipynb>data table notebook</a>'\n",
              "            + ' to learn more about interactive tables.';\n",
              "          element.innerHTML = '';\n",
              "          dataTable['output_type'] = 'display_data';\n",
              "          await google.colab.output.renderOutput(dataTable, element);\n",
              "          const docLink = document.createElement('div');\n",
              "          docLink.innerHTML = docLinkHtml;\n",
              "          element.appendChild(docLink);\n",
              "        }\n",
              "      </script>\n",
              "    </div>\n",
              "  </div>\n",
              "  "
            ],
            "text/plain": [
              "              image_name             relative_path  class_label\n",
              "0      basket_052681.png  basket/basket_052681.png            0\n",
              "1      basket_028248.png  basket/basket_028248.png            0\n",
              "2      basket_050738.png  basket/basket_050738.png            0\n",
              "3      basket_034414.png  basket/basket_034414.png            0\n",
              "4      basket_091738.png  basket/basket_091738.png            0\n",
              "...                  ...                       ...          ...\n",
              "74995    hand_241467.png      hand/hand_241467.png            4\n",
              "74996    hand_052619.png      hand/hand_052619.png            4\n",
              "74997    hand_168727.png      hand/hand_168727.png            4\n",
              "74998    hand_285523.png      hand/hand_285523.png            4\n",
              "74999    hand_263562.png      hand/hand_263562.png            4\n",
              "\n",
              "[75000 rows x 3 columns]"
            ]
          },
          "metadata": {},
          "execution_count": 10
        }
      ]
    },
    {
      "cell_type": "markdown",
      "source": [
        "On affiche la taille de la dataframe de validation *valid* et on la visualise.\n",
        "\n",
        "On remarque que chaque ligne de *valid* contient un nom d'image, son chemin relatif et son label.\n",
        "\n",
        "train et valid ont un format similaire."
      ],
      "metadata": {
        "id": "D3MUwKE4D2vU"
      }
    },
    {
      "cell_type": "code",
      "source": [
        "print(valid.shape)\n",
        "valid"
      ],
      "metadata": {
        "colab": {
          "base_uri": "https://localhost:8080/",
          "height": 441
        },
        "id": "rkT-QKk2D3eL",
        "outputId": "0bbe3672-2f19-4cae-adca-453cb31e2b19"
      },
      "execution_count": 11,
      "outputs": [
        {
          "output_type": "stream",
          "name": "stdout",
          "text": [
            "(25000, 3)\n"
          ]
        },
        {
          "output_type": "execute_result",
          "data": {
            "text/html": [
              "\n",
              "  <div id=\"df-b12105d7-6366-44bc-9e2a-634d4b4cff25\">\n",
              "    <div class=\"colab-df-container\">\n",
              "      <div>\n",
              "<style scoped>\n",
              "    .dataframe tbody tr th:only-of-type {\n",
              "        vertical-align: middle;\n",
              "    }\n",
              "\n",
              "    .dataframe tbody tr th {\n",
              "        vertical-align: top;\n",
              "    }\n",
              "\n",
              "    .dataframe thead th {\n",
              "        text-align: right;\n",
              "    }\n",
              "</style>\n",
              "<table border=\"1\" class=\"dataframe\">\n",
              "  <thead>\n",
              "    <tr style=\"text-align: right;\">\n",
              "      <th></th>\n",
              "      <th>image_name</th>\n",
              "      <th>relative_path</th>\n",
              "      <th>class_label</th>\n",
              "    </tr>\n",
              "  </thead>\n",
              "  <tbody>\n",
              "    <tr>\n",
              "      <th>0</th>\n",
              "      <td>basket_091236.png</td>\n",
              "      <td>basket/basket_091236.png</td>\n",
              "      <td>0</td>\n",
              "    </tr>\n",
              "    <tr>\n",
              "      <th>1</th>\n",
              "      <td>basket_111908.png</td>\n",
              "      <td>basket/basket_111908.png</td>\n",
              "      <td>0</td>\n",
              "    </tr>\n",
              "    <tr>\n",
              "      <th>2</th>\n",
              "      <td>basket_088296.png</td>\n",
              "      <td>basket/basket_088296.png</td>\n",
              "      <td>0</td>\n",
              "    </tr>\n",
              "    <tr>\n",
              "      <th>3</th>\n",
              "      <td>basket_040763.png</td>\n",
              "      <td>basket/basket_040763.png</td>\n",
              "      <td>0</td>\n",
              "    </tr>\n",
              "    <tr>\n",
              "      <th>4</th>\n",
              "      <td>basket_010714.png</td>\n",
              "      <td>basket/basket_010714.png</td>\n",
              "      <td>0</td>\n",
              "    </tr>\n",
              "    <tr>\n",
              "      <th>...</th>\n",
              "      <td>...</td>\n",
              "      <td>...</td>\n",
              "      <td>...</td>\n",
              "    </tr>\n",
              "    <tr>\n",
              "      <th>24995</th>\n",
              "      <td>hand_125273.png</td>\n",
              "      <td>hand/hand_125273.png</td>\n",
              "      <td>4</td>\n",
              "    </tr>\n",
              "    <tr>\n",
              "      <th>24996</th>\n",
              "      <td>hand_133214.png</td>\n",
              "      <td>hand/hand_133214.png</td>\n",
              "      <td>4</td>\n",
              "    </tr>\n",
              "    <tr>\n",
              "      <th>24997</th>\n",
              "      <td>hand_112700.png</td>\n",
              "      <td>hand/hand_112700.png</td>\n",
              "      <td>4</td>\n",
              "    </tr>\n",
              "    <tr>\n",
              "      <th>24998</th>\n",
              "      <td>hand_219816.png</td>\n",
              "      <td>hand/hand_219816.png</td>\n",
              "      <td>4</td>\n",
              "    </tr>\n",
              "    <tr>\n",
              "      <th>24999</th>\n",
              "      <td>hand_145171.png</td>\n",
              "      <td>hand/hand_145171.png</td>\n",
              "      <td>4</td>\n",
              "    </tr>\n",
              "  </tbody>\n",
              "</table>\n",
              "<p>25000 rows × 3 columns</p>\n",
              "</div>\n",
              "      <button class=\"colab-df-convert\" onclick=\"convertToInteractive('df-b12105d7-6366-44bc-9e2a-634d4b4cff25')\"\n",
              "              title=\"Convert this dataframe to an interactive table.\"\n",
              "              style=\"display:none;\">\n",
              "        \n",
              "  <svg xmlns=\"http://www.w3.org/2000/svg\" height=\"24px\"viewBox=\"0 0 24 24\"\n",
              "       width=\"24px\">\n",
              "    <path d=\"M0 0h24v24H0V0z\" fill=\"none\"/>\n",
              "    <path d=\"M18.56 5.44l.94 2.06.94-2.06 2.06-.94-2.06-.94-.94-2.06-.94 2.06-2.06.94zm-11 1L8.5 8.5l.94-2.06 2.06-.94-2.06-.94L8.5 2.5l-.94 2.06-2.06.94zm10 10l.94 2.06.94-2.06 2.06-.94-2.06-.94-.94-2.06-.94 2.06-2.06.94z\"/><path d=\"M17.41 7.96l-1.37-1.37c-.4-.4-.92-.59-1.43-.59-.52 0-1.04.2-1.43.59L10.3 9.45l-7.72 7.72c-.78.78-.78 2.05 0 2.83L4 21.41c.39.39.9.59 1.41.59.51 0 1.02-.2 1.41-.59l7.78-7.78 2.81-2.81c.8-.78.8-2.07 0-2.86zM5.41 20L4 18.59l7.72-7.72 1.47 1.35L5.41 20z\"/>\n",
              "  </svg>\n",
              "      </button>\n",
              "      \n",
              "  <style>\n",
              "    .colab-df-container {\n",
              "      display:flex;\n",
              "      flex-wrap:wrap;\n",
              "      gap: 12px;\n",
              "    }\n",
              "\n",
              "    .colab-df-convert {\n",
              "      background-color: #E8F0FE;\n",
              "      border: none;\n",
              "      border-radius: 50%;\n",
              "      cursor: pointer;\n",
              "      display: none;\n",
              "      fill: #1967D2;\n",
              "      height: 32px;\n",
              "      padding: 0 0 0 0;\n",
              "      width: 32px;\n",
              "    }\n",
              "\n",
              "    .colab-df-convert:hover {\n",
              "      background-color: #E2EBFA;\n",
              "      box-shadow: 0px 1px 2px rgba(60, 64, 67, 0.3), 0px 1px 3px 1px rgba(60, 64, 67, 0.15);\n",
              "      fill: #174EA6;\n",
              "    }\n",
              "\n",
              "    [theme=dark] .colab-df-convert {\n",
              "      background-color: #3B4455;\n",
              "      fill: #D2E3FC;\n",
              "    }\n",
              "\n",
              "    [theme=dark] .colab-df-convert:hover {\n",
              "      background-color: #434B5C;\n",
              "      box-shadow: 0px 1px 3px 1px rgba(0, 0, 0, 0.15);\n",
              "      filter: drop-shadow(0px 1px 2px rgba(0, 0, 0, 0.3));\n",
              "      fill: #FFFFFF;\n",
              "    }\n",
              "  </style>\n",
              "\n",
              "      <script>\n",
              "        const buttonEl =\n",
              "          document.querySelector('#df-b12105d7-6366-44bc-9e2a-634d4b4cff25 button.colab-df-convert');\n",
              "        buttonEl.style.display =\n",
              "          google.colab.kernel.accessAllowed ? 'block' : 'none';\n",
              "\n",
              "        async function convertToInteractive(key) {\n",
              "          const element = document.querySelector('#df-b12105d7-6366-44bc-9e2a-634d4b4cff25');\n",
              "          const dataTable =\n",
              "            await google.colab.kernel.invokeFunction('convertToInteractive',\n",
              "                                                     [key], {});\n",
              "          if (!dataTable) return;\n",
              "\n",
              "          const docLinkHtml = 'Like what you see? Visit the ' +\n",
              "            '<a target=\"_blank\" href=https://colab.research.google.com/notebooks/data_table.ipynb>data table notebook</a>'\n",
              "            + ' to learn more about interactive tables.';\n",
              "          element.innerHTML = '';\n",
              "          dataTable['output_type'] = 'display_data';\n",
              "          await google.colab.output.renderOutput(dataTable, element);\n",
              "          const docLink = document.createElement('div');\n",
              "          docLink.innerHTML = docLinkHtml;\n",
              "          element.appendChild(docLink);\n",
              "        }\n",
              "      </script>\n",
              "    </div>\n",
              "  </div>\n",
              "  "
            ],
            "text/plain": [
              "              image_name             relative_path  class_label\n",
              "0      basket_091236.png  basket/basket_091236.png            0\n",
              "1      basket_111908.png  basket/basket_111908.png            0\n",
              "2      basket_088296.png  basket/basket_088296.png            0\n",
              "3      basket_040763.png  basket/basket_040763.png            0\n",
              "4      basket_010714.png  basket/basket_010714.png            0\n",
              "...                  ...                       ...          ...\n",
              "24995    hand_125273.png      hand/hand_125273.png            4\n",
              "24996    hand_133214.png      hand/hand_133214.png            4\n",
              "24997    hand_112700.png      hand/hand_112700.png            4\n",
              "24998    hand_219816.png      hand/hand_219816.png            4\n",
              "24999    hand_145171.png      hand/hand_145171.png            4\n",
              "\n",
              "[25000 rows x 3 columns]"
            ]
          },
          "metadata": {},
          "execution_count": 11
        }
      ]
    },
    {
      "cell_type": "markdown",
      "source": [
        "On parcourt un peu la dataframe *train* afin de se familariser avec elle :"
      ],
      "metadata": {
        "id": "37JUSfa1ELRL"
      }
    },
    {
      "cell_type": "code",
      "execution_count": 12,
      "metadata": {
        "colab": {
          "base_uri": "https://localhost:8080/"
        },
        "id": "lRY0f2U-8b6y",
        "outputId": "47322e46-685c-4d12-a4e7-e1aedb9229d7"
      },
      "outputs": [
        {
          "output_type": "execute_result",
          "data": {
            "text/plain": [
              "image_name           eye_092148.png\n",
              "relative_path    eye/eye_092148.png\n",
              "class_label                       1\n",
              "Name: 20000, dtype: object"
            ]
          },
          "metadata": {},
          "execution_count": 12
        }
      ],
      "source": [
        "train.iloc[20000,:]\n"
      ]
    },
    {
      "cell_type": "markdown",
      "source": [
        "Au début, on a travaillé juste avec train en traitant les données, puis on les séparant en données d'entrainnement et données de test.\n",
        "\n",
        "Mais vu l'existence de la dataframe valid, cela n'est pas nécessaire.\n",
        "\n",
        "Donc, il suffit de commenter cela et travailler directement avec train et valid."
      ],
      "metadata": {
        "id": "ctudPLSKEeHt"
      }
    },
    {
      "cell_type": "code",
      "execution_count": 13,
      "metadata": {
        "id": "sURgVLIy14A8"
      },
      "outputs": [],
      "source": [
        "#train.iloc[0,1]\n",
        "#data=[]\n",
        "#label=[]\n",
        "#for i in range(0,train.shape[0]):\n",
        "#  im = Image.open('images/'+ train.iloc[i,1])\n",
        "#  image = img_to_array(im)\n",
        "#  data.append(image)\n",
        "#  label.append(train.iloc[i,2])\n",
        "#len(data)"
      ]
    },
    {
      "cell_type": "code",
      "execution_count": 14,
      "metadata": {
        "id": "4JIPgnJ6Az_f"
      },
      "outputs": [],
      "source": [
        "#dat = np.array(data, dtype=\"float\") / 255.0\n",
        "#labels = np.array(label)"
      ]
    },
    {
      "cell_type": "code",
      "execution_count": 15,
      "metadata": {
        "id": "6wRdue0oA54_"
      },
      "outputs": [],
      "source": [
        "#(trainX, testX, trainY, testY) = train_test_split(dat,\n",
        "#\tlabels, test_size=0.25, random_state=42)"
      ]
    },
    {
      "cell_type": "markdown",
      "source": [
        "## Préparation des Données"
      ],
      "metadata": {
        "id": "M7bQd6yBFFq4"
      }
    },
    {
      "cell_type": "markdown",
      "source": [
        "On prépate d'abord les données d’entraînement.\n",
        "\n",
        "Pour réaliser cela, on crée 2 listes : \n",
        "  - trainX qui contiendra les images sous formes d'*arrays* en utilisant *img_to_array*.\n",
        "  - trainY qui contiendra les labels (sous format int : 0,1,2,3,4 selon l'ordre dans la liste classes).\n",
        "\n",
        "Puis, pour chaque élément de la dataframe *train*, on ouvre l'image associé (trouvé grâce au chemin relatif, 2ème colonne) et on la transforme en *array* en utilisant img_to_array puis on l'ajoute dans la liste trainX et on ajoute son label dans la liste trainY."
      ],
      "metadata": {
        "id": "zJ-1JmCyFNkk"
      }
    },
    {
      "cell_type": "code",
      "execution_count": 16,
      "metadata": {
        "colab": {
          "base_uri": "https://localhost:8080/"
        },
        "id": "guP1QkruN8Lf",
        "outputId": "209ad817-2122-42ef-9b6a-e09bdef5287d"
      },
      "outputs": [
        {
          "output_type": "execute_result",
          "data": {
            "text/plain": [
              "75000"
            ]
          },
          "metadata": {},
          "execution_count": 16
        }
      ],
      "source": [
        "trainX=[]\n",
        "trainY=[]\n",
        "for i in range(0,train.shape[0]):\n",
        "  im = Image.open('images/'+ train.iloc[i,1])\n",
        "  image = img_to_array(im)\n",
        "  trainX.append(image)\n",
        "  trainY.append(train.iloc[i,2])\n",
        "len(trainX)"
      ]
    },
    {
      "cell_type": "markdown",
      "source": [
        "On prépate ensuite les données de validation.\n",
        "\n",
        "Pour réaliser cela, on crée 2 listes : \n",
        "  - testX qui contiendra les images sous formes d'*arrays* en utilisant *img_to_array*.\n",
        "  - testY qui contiendra les labels (sous format int : 0,1,2,3,4 selon l'ordre dans la liste classes).\n",
        "\n",
        "Puis, pour chaque élément de la dataframe *test*, on ouvre l'image associé (trouvé grâce au chemin relatif, 2ème colonne) et on la transforme en *array* en utilisant img_to_array puis on l'ajoute dans la liste testX et on ajoute son label dans la liste testY."
      ],
      "metadata": {
        "id": "LLxsr6hiGcZD"
      }
    },
    {
      "cell_type": "code",
      "execution_count": 17,
      "metadata": {
        "colab": {
          "base_uri": "https://localhost:8080/"
        },
        "id": "x2zDkJL6OZgL",
        "outputId": "1631877d-fb9b-42ab-cf16-54e7a5807178"
      },
      "outputs": [
        {
          "output_type": "execute_result",
          "data": {
            "text/plain": [
              "25000"
            ]
          },
          "metadata": {},
          "execution_count": 17
        }
      ],
      "source": [
        "testX=[]\n",
        "testY=[]\n",
        "for i in range(0,valid.shape[0]):\n",
        "  im = Image.open('images/'+ valid.iloc[i,1])\n",
        "  image = img_to_array(im)\n",
        "  testX.append(image)\n",
        "  testY.append(valid.iloc[i,2])\n",
        "len(testX)"
      ]
    },
    {
      "cell_type": "markdown",
      "source": [
        "Ensuite, on transforme nos listes créées en des *numpy arrays* avec pour les images des valeurs divisées par 255.0 (afin d'otenir des valeurs entre 0 et 1)."
      ],
      "metadata": {
        "id": "LX1wX8-JGqJ3"
      }
    },
    {
      "cell_type": "code",
      "execution_count": 18,
      "metadata": {
        "id": "AVARIkV7PbiB"
      },
      "outputs": [],
      "source": [
        "trainX = np.array(trainX, dtype=\"float\") / 255.0\n",
        "testX = np.array(testX, dtype=\"float\") / 255.0\n",
        "trainY = np.array(trainY)\n",
        "testY = np.array(testY)"
      ]
    },
    {
      "cell_type": "markdown",
      "source": [
        "##Visualisation\n"
      ],
      "metadata": {
        "id": "zHE_xOTrHr4h"
      }
    },
    {
      "cell_type": "markdown",
      "source": [
        "Afin de vérifier que nos modifications n'ont pas ruinés nos images, on essaye alors de les visualiser.\n",
        "On réalise une visualisation initiale de nos images avant qu'on les a modifiés :"
      ],
      "metadata": {
        "id": "gTKTRL8xIYln"
      }
    },
    {
      "cell_type": "code",
      "source": [
        "import matplotlib.pyplot as plt\n",
        "%matplotlib inline\n",
        "\n",
        "plt.figure(figsize=(18,9))\n",
        "for i in range(0,5):\n",
        "    ax= plt.subplot(3,2 ,i+1)\n",
        "    mydata = pd.read_csv(\"train.csv\",skiprows = [1], nrows=1)\n",
        "    im = Image.open('images/'+classes[i]+'/'+ os.listdir(\"images/\"+classes[i])[0])\n",
        "    fig=ax.imshow(im)\n",
        "    plt.title(classes[i])\n",
        "    fig.axes.get_xaxis().set_visible(False)\n",
        "    fig.axes.get_yaxis().set_visible(False)\n",
        "plt.show()    "
      ],
      "metadata": {
        "colab": {
          "base_uri": "https://localhost:8080/",
          "height": 540
        },
        "id": "9XlyE9FeIVRH",
        "outputId": "46bb80b6-e085-4231-dd36-a335540a1dde"
      },
      "execution_count": 27,
      "outputs": [
        {
          "output_type": "display_data",
          "data": {
            "image/png": "[encoded data removed]",
            "text/plain": [
              "<Figure size 1296x648 with 5 Axes>"
            ]
          },
          "metadata": {
            "needs_background": "light"
          }
        }
      ]
    },
    {
      "cell_type": "markdown",
      "source": [
        "Puis, on visualise nos images modifiées directement à partir de la liste trainX (liste contenant les images sous forme d'arrays) en utilisant *imshow* pour afficher les images et *squeeze* afin d'obtenir des résultats cohérents."
      ],
      "metadata": {
        "id": "bBQyUlxNIUMM"
      }
    },
    {
      "cell_type": "code",
      "source": [
        "plt.figure(figsize=(18,10))\n",
        "for i in range(25):\n",
        "    j = (len(trainX)//25)*i   #Afin d'avoir de la diversité, on choisit d'afficher 5 images de chaque types\n",
        "    plt.subplot(5,5,i+1)\n",
        "    plt.xticks([])\n",
        "    plt.yticks([])\n",
        "    plt.grid(False)\n",
        "    plt.imshow(trainX[j].squeeze())\n",
        "    plt.xlabel(classes[trainY[j]])\n",
        "plt.show()"
      ],
      "metadata": {
        "colab": {
          "base_uri": "https://localhost:8080/",
          "height": 589
        },
        "id": "SOLfLb4bHq8A",
        "outputId": "7677c75c-30d6-4981-bb29-a9d3455629e6"
      },
      "execution_count": 32,
      "outputs": [
        {
          "output_type": "display_data",
          "data": {
            "image/png": "[encoded data removed]",
            "text/plain": [
              "<Figure size 1296x720 with 25 Axes>"
            ]
          },
          "metadata": {}
        }
      ]
    },
    {
      "cell_type": "markdown",
      "source": [
        "On remarque ainsi que nos images sont bien adaptées et elles sont en même taille (si ce n'était pas le cas, on aurait pu réaliser un reshape afin d'adapter nos images et les donner tous une taille similaire).\n",
        "Nos images sont déja en forme (28, 28, 1)."
      ],
      "metadata": {
        "id": "0XUjLB1qI8kC"
      }
    },
    {
      "cell_type": "markdown",
      "source": [
        "##Entraînement Model"
      ],
      "metadata": {
        "id": "pWB-iN2CLZrx"
      }
    },
    {
      "cell_type": "markdown",
      "source": [
        "On commence par notre modèle basique. Un CNN avec 3 *Convolutional Layers* suivies par des *max pooling layers*"
      ],
      "metadata": {
        "id": "ubLJMcQoLoRc"
      }
    },
    {
      "cell_type": "code",
      "source": [
        "from tensorflow.keras.models import Sequential\n",
        "from tensorflow.keras.layers import Conv2D\n",
        "from tensorflow.keras.layers import MaxPooling2D\n",
        "from tensorflow.keras.layers import Flatten\n",
        "from tensorflow.keras.layers import Dense\n",
        "\n",
        "model = Sequential()\n",
        "model.add(Conv2D(28, (3, 3), activation='relu', input_shape=(28, 28, 1)))\n",
        "model.add(MaxPooling2D((2, 2)))\n",
        "model.add(Conv2D(56, (3, 3), activation='relu'))\n",
        "model.add(MaxPooling2D((2, 2)))\n",
        "model.add(Conv2D(56, (3, 3), activation='relu'))\n",
        "#model.summary()\n",
        "model.add(Flatten())\n",
        "model.add(Dense(56, activation='relu'))\n",
        "model.add(Dense(5))\n",
        "model.summary()\n"
      ],
      "metadata": {
        "colab": {
          "base_uri": "https://localhost:8080/"
        },
        "id": "7CD6Vjr8LonV",
        "outputId": "ef8533c2-04b4-4a94-c89d-4104e074c82c"
      },
      "execution_count": 55,
      "outputs": [
        {
          "output_type": "stream",
          "name": "stdout",
          "text": [
            "Model: \"sequential_6\"\n",
            "_________________________________________________________________\n",
            " Layer (type)                Output Shape              Param #   \n",
            "=================================================================\n",
            " conv2d_16 (Conv2D)          (None, 24, 24, 28)        728       \n",
            "                                                                 \n",
            " max_pooling2d_12 (MaxPoolin  (None, 12, 12, 28)       0         \n",
            " g2D)                                                            \n",
            "                                                                 \n",
            " conv2d_17 (Conv2D)          (None, 8, 8, 56)          39256     \n",
            "                                                                 \n",
            " max_pooling2d_13 (MaxPoolin  (None, 4, 4, 56)         0         \n",
            " g2D)                                                            \n",
            "                                                                 \n",
            " conv2d_18 (Conv2D)          (None, 1, 1, 56)          50232     \n",
            "                                                                 \n",
            " flatten_7 (Flatten)         (None, 56)                0         \n",
            "                                                                 \n",
            " dense_10 (Dense)            (None, 56)                3192      \n",
            "                                                                 \n",
            " dense_11 (Dense)            (None, 5)                 285       \n",
            "                                                                 \n",
            "=================================================================\n",
            "Total params: 93,693\n",
            "Trainable params: 93,693\n",
            "Non-trainable params: 0\n",
            "_________________________________________________________________\n"
          ]
        }
      ]
    },
    {
      "cell_type": "markdown",
      "source": [
        "On compile le model avec l'optimiseur Adam et avec SparseCategoricalCrossentropy comme fonction de perte. \n",
        "On entraine le model sur 10 epoch."
      ],
      "metadata": {
        "id": "icVrY3wkM3c-"
      }
    },
    {
      "cell_type": "code",
      "source": [
        "import tensorflow as tf\n",
        "\n",
        "model.compile(optimizer='adam',\n",
        "              loss=tf.keras.losses.SparseCategoricalCrossentropy(from_logits=True),\n",
        "              metrics=['accuracy'])\n",
        "\n",
        "history = model.fit(trainX, trainY, epochs=10, \n",
        "                    validation_data=(testX, testY))"
      ],
      "metadata": {
        "colab": {
          "base_uri": "https://localhost:8080/"
        },
        "id": "1FaG0iNjLwYF",
        "outputId": "a339cb50-7dc3-4b7c-d3a2-a7752898a0a3"
      },
      "execution_count": 56,
      "outputs": [
        {
          "output_type": "stream",
          "name": "stdout",
          "text": [
            "Epoch 1/5\n",
            "2344/2344 [==============================] - 75s 32ms/step - loss: 0.3492 - accuracy: 0.8836 - val_loss: 0.2148 - val_accuracy: 0.9296\n",
            "Epoch 2/5\n",
            "2344/2344 [==============================] - 68s 29ms/step - loss: 0.1885 - accuracy: 0.9372 - val_loss: 0.1720 - val_accuracy: 0.9405\n",
            "Epoch 3/5\n",
            "2344/2344 [==============================] - 69s 29ms/step - loss: 0.1503 - accuracy: 0.9490 - val_loss: 0.1810 - val_accuracy: 0.9395\n",
            "Epoch 4/5\n",
            "2344/2344 [==============================] - 68s 29ms/step - loss: 0.1282 - accuracy: 0.9567 - val_loss: 0.1580 - val_accuracy: 0.9474\n",
            "Epoch 5/5\n",
            "2344/2344 [==============================] - 68s 29ms/step - loss: 0.1095 - accuracy: 0.9629 - val_loss: 0.1624 - val_accuracy: 0.9477\n"
          ]
        }
      ]
    },
    {
      "cell_type": "markdown",
      "source": [
        "On évalue alors le résultat obtenu par ce modèle initial :\n",
        "On affiche la courbe de précision :\n",
        "\n",
        "On obtient alors avec 10 epochs : accuracy=0.9821 val_accuracy: 0.9489\n",
        "\n",
        "et avec 5 epochs : accuracy=0.9629 et val_accuracy=0.9477"
      ],
      "metadata": {
        "id": "oQX8etT5N586"
      }
    },
    {
      "cell_type": "code",
      "source": [
        "plt.figure()\n",
        "plt.plot(history.history['accuracy'], label='accuracy')\n",
        "plt.plot(history.history['val_accuracy'], label = 'val_accuracy')\n",
        "plt.xlabel('Epoch')\n",
        "plt.ylabel('Accuracy')\n",
        "plt.ylim([0.5, 1])\n",
        "plt.legend(loc='lower right')\n",
        "\n",
        "plt.show()\n",
        "\n",
        "test_loss, test_acc = model.evaluate(testX,  testY, verbose=2)\n",
        "print(test_acc)\n",
        "print(test_loss)"
      ],
      "metadata": {
        "colab": {
          "base_uri": "https://localhost:8080/",
          "height": 335
        },
        "id": "YKEmON8pNoJk",
        "outputId": "df003767-2a52-4a36-fd20-a201f82682e2"
      },
      "execution_count": 57,
      "outputs": [
        {
          "output_type": "display_data",
          "data": {
            "image/png": "[encoded data removed]",
            "text/plain": [
              "<Figure size 432x288 with 1 Axes>"
            ]
          },
          "metadata": {
            "needs_background": "light"
          }
        },
        {
          "output_type": "stream",
          "name": "stdout",
          "text": [
            "782/782 - 6s - loss: 0.1624 - accuracy: 0.9477 - 6s/epoch - 8ms/step\n",
            "0.9477199912071228\n",
            "0.16239675879478455\n"
          ]
        }
      ]
    },
    {
      "cell_type": "markdown",
      "source": [
        "On enregistre notre modèle sous forme h5 : "
      ],
      "metadata": {
        "id": "jx0IgjyaQKuk"
      }
    },
    {
      "cell_type": "code",
      "source": [
        "model.save(\"mon_model_h5.h5\")"
      ],
      "metadata": {
        "id": "91c19InxQJql"
      },
      "execution_count": 52,
      "outputs": []
    },
    {
      "cell_type": "markdown",
      "source": [
        "On refait le travail sur ce modèle en changeant le taux d'entrainement *learning_rate* afin de voir si ça modifie le résultat"
      ],
      "metadata": {
        "id": "Skiba8KOOqyI"
      }
    },
    {
      "cell_type": "code",
      "source": [
        "model2 = Sequential()\n",
        "model2.add(Conv2D(28, (3, 3), activation='relu', input_shape=(28, 28, 1)))\n",
        "model2.add(MaxPooling2D((2, 2)))\n",
        "model2.add(Conv2D(56, (3, 3), activation='relu'))\n",
        "model2.add(MaxPooling2D((2, 2)))\n",
        "model2.add(Conv2D(56, (3, 3), activation='relu'))\n",
        "#model.summary()\n",
        "model2.add(Flatten())\n",
        "model2.add(Dense(56, activation='relu'))\n",
        "model2.add(Dense(5))\n",
        "model2.summary()"
      ],
      "metadata": {
        "id": "5RsWEPJqO7EM"
      },
      "execution_count": null,
      "outputs": []
    },
    {
      "cell_type": "code",
      "source": [
        "EP = 25\n",
        "ILR = 1e-3\n",
        "BS = 32\n",
        "import tensorflow as tf\n",
        "\n",
        "opt = Adam(lr=ILR, decay=ILR / EP)\n",
        "\n",
        "model2.compile(optimizer=opt,\n",
        "              loss=tf.keras.losses.SparseCategoricalCrossentropy(from_logits=True),\n",
        "              metrics=['accuracy'])\n",
        "\n",
        "history = model2.fit(trainX, trainY, epochs=EP, \n",
        "                    validation_data=(testX, testY))"
      ],
      "metadata": {
        "colab": {
          "base_uri": "https://localhost:8080/"
        },
        "id": "FzwV4BPIOZUs",
        "outputId": "d0fa5912-aa2b-4f9c-9009-7927a413915c"
      },
      "execution_count": 49,
      "outputs": [
        {
          "output_type": "stream",
          "name": "stderr",
          "text": [
            "/usr/local/lib/python3.7/dist-packages/keras/optimizer_v2/adam.py:105: UserWarning: The `lr` argument is deprecated, use `learning_rate` instead.\n",
            "  super(Adam, self).__init__(name, **kwargs)\n"
          ]
        },
        {
          "output_type": "stream",
          "name": "stdout",
          "text": [
            "Epoch 1/10\n",
            "2344/2344 [==============================] - 61s 26ms/step - loss: 0.3405 - accuracy: 0.8870 - val_loss: 0.2184 - val_accuracy: 0.9258\n",
            "Epoch 2/10\n",
            "2344/2344 [==============================] - 69s 29ms/step - loss: 0.1907 - accuracy: 0.9357 - val_loss: 0.1760 - val_accuracy: 0.9409\n",
            "Epoch 3/10\n",
            "2344/2344 [==============================] - 73s 31ms/step - loss: 0.1531 - accuracy: 0.9481 - val_loss: 0.1630 - val_accuracy: 0.9437\n",
            "Epoch 4/10\n",
            "2344/2344 [==============================] - 81s 35ms/step - loss: 0.1289 - accuracy: 0.9558 - val_loss: 0.1530 - val_accuracy: 0.9476\n",
            "Epoch 5/10\n",
            "2344/2344 [==============================] - 66s 28ms/step - loss: 0.1106 - accuracy: 0.9622 - val_loss: 0.1588 - val_accuracy: 0.9482\n",
            "Epoch 6/10\n",
            "2344/2344 [==============================] - 68s 29ms/step - loss: 0.0961 - accuracy: 0.9671 - val_loss: 0.1668 - val_accuracy: 0.9488\n",
            "Epoch 7/10\n",
            "2344/2344 [==============================] - 65s 28ms/step - loss: 0.0836 - accuracy: 0.9711 - val_loss: 0.1606 - val_accuracy: 0.9498\n",
            "Epoch 8/10\n",
            "2344/2344 [==============================] - 59s 25ms/step - loss: 0.0724 - accuracy: 0.9746 - val_loss: 0.1644 - val_accuracy: 0.9492\n",
            "Epoch 9/10\n",
            "2344/2344 [==============================] - 71s 30ms/step - loss: 0.0620 - accuracy: 0.9787 - val_loss: 0.1722 - val_accuracy: 0.9488\n",
            "Epoch 10/10\n",
            "2344/2344 [==============================] - 62s 27ms/step - loss: 0.0531 - accuracy: 0.9823 - val_loss: 0.1852 - val_accuracy: 0.9504\n"
          ]
        }
      ]
    },
    {
      "cell_type": "markdown",
      "source": [
        "En donnant un taux d’entraînement *learning_rate* égal à 0.001 avec 10 epochs, on obtient un résultat similaire : \n",
        "\n",
        "accuracy = 0.9823 et val_accuracy=0.9504.\n",
        "\n",
        "\n",
        "\n",
        "On peut augmenter le nombre d'épochs (25) afin d'obtenir un meilleur résultat."
      ],
      "metadata": {
        "id": "xAXKyPn4SurP"
      }
    },
    {
      "cell_type": "code",
      "source": [
        "plt.figure()\n",
        "plt.plot(history.history['accuracy'], label='accuracy')\n",
        "plt.plot(history.history['val_accuracy'], label = 'val_accuracy')\n",
        "plt.xlabel('Epoch')\n",
        "plt.ylabel('Accuracy')\n",
        "plt.ylim([0.5, 1])\n",
        "plt.legend(loc='lower right')\n",
        "\n",
        "plt.show()\n",
        "\n",
        "test_loss, test_acc = model.evaluate(testX,  testY, verbose=2)\n",
        "print(test_acc)\n",
        "print(test_loss)"
      ],
      "metadata": {
        "colab": {
          "base_uri": "https://localhost:8080/",
          "height": 335
        },
        "id": "QTH65Ku7PZf5",
        "outputId": "50c5f81b-c3e5-44a2-a4d1-69c2ce40ccf1"
      },
      "execution_count": 50,
      "outputs": [
        {
          "output_type": "display_data",
          "data": {
            "image/png": "[encoded data removed]",
            "text/plain": [
              "<Figure size 432x288 with 1 Axes>"
            ]
          },
          "metadata": {
            "needs_background": "light"
          }
        },
        {
          "output_type": "stream",
          "name": "stdout",
          "text": [
            "782/782 - 6s - loss: 0.1852 - accuracy: 0.9504 - 6s/epoch - 7ms/step\n",
            "0.950439989566803\n",
            "0.1851518750190735\n"
          ]
        }
      ]
    },
    {
      "cell_type": "markdown",
      "source": [
        "J'ai essayé aussi de tester d'autres modèles un peu plus approfondies, mais cela n'a pas conduit à des résultats intéressants"
      ],
      "metadata": {
        "id": "qp82383TPr4R"
      }
    },
    {
      "cell_type": "code",
      "execution_count": null,
      "metadata": {
        "colab": {
          "base_uri": "https://localhost:8080/"
        },
        "id": "FnQiqh_GVaSR",
        "outputId": "0a5a5516-370d-4386-bad3-60f06d2cd09c"
      },
      "outputs": [
        {
          "name": "stdout",
          "output_type": "stream",
          "text": [
            "Model: \"sequential_2\"\n",
            "_________________________________________________________________\n",
            " Layer (type)                Output Shape              Param #   \n",
            "=================================================================\n",
            " conv2d_10 (Conv2D)          (None, 26, 26, 28)        280       \n",
            "                                                                 \n",
            " conv2d_11 (Conv2D)          (None, 26, 26, 28)        7084      \n",
            "                                                                 \n",
            " conv2d_12 (Conv2D)          (None, 26, 26, 112)       28336     \n",
            "                                                                 \n",
            " conv2d_13 (Conv2D)          (None, 26, 26, 112)       113008    \n",
            "                                                                 \n",
            " max_pooling2d_5 (MaxPooling  (None, 13, 13, 112)      0         \n",
            " 2D)                                                             \n",
            "                                                                 \n",
            " dropout_3 (Dropout)         (None, 13, 13, 112)       0         \n",
            "                                                                 \n",
            " conv2d_14 (Conv2D)          (None, 13, 13, 224)       226016    \n",
            "                                                                 \n",
            " conv2d_15 (Conv2D)          (None, 13, 13, 224)       451808    \n",
            "                                                                 \n",
            " conv2d_16 (Conv2D)          (None, 13, 13, 112)       225904    \n",
            "                                                                 \n",
            " conv2d_17 (Conv2D)          (None, 13, 13, 112)       113008    \n",
            "                                                                 \n",
            " max_pooling2d_6 (MaxPooling  (None, 6, 6, 112)        0         \n",
            " 2D)                                                             \n",
            "                                                                 \n",
            " dropout_4 (Dropout)         (None, 6, 6, 112)         0         \n",
            "                                                                 \n",
            " max_pooling2d_7 (MaxPooling  (None, 3, 3, 112)        0         \n",
            " 2D)                                                             \n",
            "                                                                 \n",
            " dense_6 (Dense)             (None, 3, 3, 896)         101248    \n",
            "                                                                 \n",
            " dense_7 (Dense)             (None, 3, 3, 448)         401856    \n",
            "                                                                 \n",
            " dropout_5 (Dropout)         (None, 3, 3, 448)         0         \n",
            "                                                                 \n",
            " flatten_3 (Flatten)         (None, 4032)              0         \n",
            "                                                                 \n",
            " dense_8 (Dense)             (None, 28)                112924    \n",
            "                                                                 \n",
            " dense_9 (Dense)             (None, 5)                 145       \n",
            "                                                                 \n",
            "=================================================================\n",
            "Total params: 1,781,617\n",
            "Trainable params: 1,781,617\n",
            "Non-trainable params: 0\n",
            "_________________________________________________________________\n"
          ]
        }
      ],
      "source": [
        "#from keras.layers import Dropout\n",
        "\n",
        "#model = Sequential()\n",
        "#model.add(Conv2D(28,(3,3),activation='relu',input_shape=(28,28,1)))\n",
        "#model.add(Conv2D(28,(3,3),activation='relu', padding='same'))\n",
        "#model.add(Conv2D(112,(3,3),activation='relu', padding='same'))\n",
        "#model.add(Conv2D(112,(3,3),activation='relu', padding='same'))\n",
        "#model.add(MaxPooling2D((2, 2)))\n",
        "#model.add(Dropout(.3))\n",
        "#model.add(Conv2D(224, (3,3), activation='relu', padding='same'))\n",
        "#model.add(Conv2D(224, (3,3), activation='relu', padding='same'))\n",
        "#model.add(Conv2D(112, (3,3), activation='relu', padding='same'))\n",
        "#model.add(Conv2D(112, (3,3), activation='relu', padding='same'))\n",
        "#model.add(MaxPooling2D((2, 2)))\n",
        "#model.add(Dropout(.3))\n",
        "#model.add(MaxPooling2D((2, 2)))\n",
        "#model.add(Dense(896, activation='relu'))\n",
        "#model.add(Dense(448, activation='relu'))\n",
        "#model.add(Dropout(.3))\n",
        "#model.add(Flatten())\n",
        "#model.add(Dense(28, activation='relu'))\n",
        "#model.add(Dense(5, activation='sigmoid'))\n",
        "#model.summary()"
      ]
    },
    {
      "cell_type": "markdown",
      "source": [
        "On réalise un pip freeze afin d'obtenir les librairies et dépenndances."
      ],
      "metadata": {
        "id": "YpuotG25VOfY"
      }
    },
    {
      "cell_type": "code",
      "execution_count": 58,
      "metadata": {
        "id": "FCiG6zAloSYh"
      },
      "outputs": [],
      "source": [
        "pip freeze > requirements.txt"
      ]
    }
  ],
  "metadata": {
    "colab": {
      "collapsed_sections": [],
      "name": "challenge.ipynb",
      "provenance": []
    },
    "kernelspec": {
      "display_name": "kernel_english_courses",
      "name": "kernel"
    },
    "language_info": {
      "codemirror_mode": {
        "name": "ipython",
        "version": 3
      },
      "file_extension": ".py",
      "mimetype": "text/x-python",
      "name": "python",
      "nbconvert_exporter": "python",
      "pygments_lexer": "ipython3",
      "version": "3.8.6-final"
    }
  },
  "nbformat": 4,
  "nbformat_minor": 0
}